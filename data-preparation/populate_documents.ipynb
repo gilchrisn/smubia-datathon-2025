{
 "cells": [
  {
   "cell_type": "code",
   "execution_count": 17,
   "metadata": {},
   "outputs": [],
   "source": [
    "import pandas as pd\n",
    "\n",
    "wikileaks = pd.read_csv('resources/wikileaks_parsed.csv', delimiter=';', encoding='utf-8')\n",
    "news = pd.read_csv('resources/news_excerpts_parsed.csv', delimiter=';', encoding='utf-8')"
   ]
  },
  {
   "cell_type": "code",
   "execution_count": null,
   "metadata": {},
   "outputs": [],
   "source": [
    "# Concatenate text if the 'PDF Path' is the same\n",
    "wikileaks = wikileaks.groupby('PDF Path')['Text'].apply(' '.join).reset_index()\n",
    "\n",
    "print(wikileaks.head())\n",
    "print(wikileaks.shape)\n",
    "print(wikileaks.columns)"
   ]
  },
  {
   "cell_type": "code",
   "execution_count": 20,
   "metadata": {},
   "outputs": [
    {
     "name": "stdout",
     "output_type": "stream",
     "text": [
      "(1510, 2)\n",
      "Index(['Column1', 'Column2'], dtype='object')\n",
      "                                             Column1  \\\n",
      "0                                               Link   \n",
      "1  http://edition.cnn.com/2011/WORLD/asiapcf/09/0...   \n",
      "2  https://apnews.com/article/congo-north-kivu-it...   \n",
      "3  https://apnews.com/article/japan-south-north-k...   \n",
      "4  https://apnews.com/united-states-government-ge...   \n",
      "\n",
      "                                             Column2  \n",
      "0                                               Text  \n",
      "1  Turkey's fiery prime minister ratcheted up rap...  \n",
      "2  GOMA, Congo (AP) — One of eastern Congo’s most...  \n",
      "3  In 2019, Japan’s government tightened export c...  \n",
      "4  In the 2010 sanctions, South Korea effectively...  \n",
      "(1509, 2)\n",
      "Index(['Column1', 'Column2'], dtype='object')\n"
     ]
    }
   ],
   "source": [
    "# Concatenate text if link are the same\n",
    "news = news.groupby('Column1')['Column2'].apply(' '.join).reset_index()\n",
    "\n",
    "print(wikileaks.head())\n",
    "print(wikileaks.shape)\n",
    "print(wikileaks.columns)"
   ]
  },
  {
   "cell_type": "code",
   "execution_count": 21,
   "metadata": {},
   "outputs": [],
   "source": [
    "from database.database import Database\n",
    "\n",
    "db = Database()\n",
    "\n",
    "# Store the data in database\n",
    "for index, row in wikileaks.iterrows():\n",
    "    db.create_document(row['PDF Path'], 'pdf', row['Text'])\n",
    "\n",
    "for index, row in news.iterrows():\n",
    "    db.create_document(row['Column1'], 'news', row['Column2'])"
   ]
  }
 ],
 "metadata": {
  "kernelspec": {
   "display_name": "venv",
   "language": "python",
   "name": "python3"
  },
  "language_info": {
   "codemirror_mode": {
    "name": "ipython",
    "version": 3
   },
   "file_extension": ".py",
   "mimetype": "text/x-python",
   "name": "python",
   "nbconvert_exporter": "python",
   "pygments_lexer": "ipython3",
   "version": "3.12.6"
  }
 },
 "nbformat": 4,
 "nbformat_minor": 2
}
