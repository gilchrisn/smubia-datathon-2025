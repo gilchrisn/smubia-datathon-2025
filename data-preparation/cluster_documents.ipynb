{
 "cells": [
  {
   "cell_type": "code",
   "execution_count": 4,
   "metadata": {},
   "outputs": [],
   "source": [
    "from sentence_transformers import SentenceTransformer\n",
    "\n",
    "model = SentenceTransformer(\"sentence-transformers/all-mpnet-base-v2\", device=\"cuda\")\n",
    "\n",
    "from database.database import Database\n",
    "\n",
    "db = Database()"
   ]
  },
  {
   "cell_type": "code",
   "execution_count": 6,
   "metadata": {},
   "outputs": [
    {
     "name": "stdout",
     "output_type": "stream",
     "text": [
      "Number of documents: 1000\n"
     ]
    },
    {
     "name": "stderr",
     "output_type": "stream",
     "text": [
      "Batches: 100%|██████████| 32/32 [00:06<00:00,  5.29it/s]"
     ]
    },
    {
     "name": "stdout",
     "output_type": "stream",
     "text": [
      "\n",
      "Embeddings shape: (1000, 768)\n"
     ]
    },
    {
     "name": "stderr",
     "output_type": "stream",
     "text": [
      "\n"
     ]
    }
   ],
   "source": [
    "db_response = db.get_all_documents()\n",
    "documents = db_response.data\n",
    "\n",
    "print(\"Number of documents:\", len(documents))\n",
    "\n",
    "# documents is a list of dicts\n",
    "# feed 'raw_text' of each dict to the model to get the embeddings\n",
    "\n",
    "documents_raw_content = [doc['raw_content'] for doc in documents]\n",
    "embeddings = model.encode(documents_raw_content, convert_to_numpy=True, show_progress_bar=True)\n",
    "\n",
    "print(\"\\nEmbeddings shape:\", embeddings.shape)\n"
   ]
  },
  {
   "cell_type": "code",
   "execution_count": 63,
   "metadata": {},
   "outputs": [],
   "source": [
    "import numpy as np\n",
    "from sklearn.cluster import KMeans\n",
    "\n",
    "def compute_optimal_k(n):\n",
    "    \"\"\"\n",
    "    Computes the optimal number of clusters (k) based on the formula:\n",
    "        k ≈ (n^2 / 2)^(1/3)\n",
    "    This formula is derived by minimizing the cost function:\n",
    "        f(k) = Σ C(a_i, 2) + C(k, 2)\n",
    "    where C(x, 2) is the number of ways to link/merge pairs in a cluster.\n",
    "    \n",
    "    Returns:\n",
    "        int: Rounded optimal number of clusters.\n",
    "    \"\"\"\n",
    "    k_approx = (n**2 / 2) ** (1/3)  # Compute continuous k\n",
    "    return max(2, round(k_approx))  # Ensure at least 2 clusters\n",
    "\n",
    "from collections import Counter\n",
    "from math import comb\n",
    "\n",
    "def calculate_pairwise_merges(cluster_labels):\n",
    "    \"\"\"\n",
    "    Calculates the total number of pairwise merge/link operations based on cluster sizes.\n",
    "    \n",
    "    Args:\n",
    "        cluster_labels (list or np.array): Cluster assignments for each document.\n",
    "    \n",
    "    Returns:\n",
    "        int: Total number of pairwise operations (intra-cluster + inter-cluster).\n",
    "    \"\"\"\n",
    "    # Step 1: Count occurrences of each cluster\n",
    "    cluster_sizes = Counter(cluster_labels)  # Dictionary of {cluster_id: count}\n",
    "    \n",
    "    # Step 2: Compute intra-cluster pairs (sum C(a_i, 2))\n",
    "    intra_cluster_pairs = sum(comb(size, 2) for size in cluster_sizes.values())\n",
    "\n",
    "    # Step 3: Compute inter-cluster pairs (C(k, 2))\n",
    "    k = len(cluster_sizes)  # Number of clusters\n",
    "    inter_cluster_pairs = comb(k, 2) if k > 1 else 0  # C(k,2) = k(k-1)/2\n",
    "\n",
    "    # Step 4: Compute total pairwise merges/links\n",
    "    total_pairs = intra_cluster_pairs + inter_cluster_pairs\n",
    "\n",
    "    print(f\"Number of Clusters (k): {k}\")\n",
    "    print(f\"Intra-cluster pairs (Σ C(a_i, 2)): {intra_cluster_pairs}\")\n",
    "    print(f\"Inter-cluster pairs (C(k, 2)): {inter_cluster_pairs}\")\n",
    "    print(f\"Total merge/link operations: {total_pairs}\")\n",
    "\n",
    "    return total_pairs\n"
   ]
  },
  {
   "cell_type": "code",
   "execution_count": 64,
   "metadata": {},
   "outputs": [
    {
     "name": "stdout",
     "output_type": "stream",
     "text": [
      "Optimal number of clusters (k) calculated: 79\n",
      "\n",
      "Clustering 1000 documents into 79 clusters using K-Means...\n",
      "Number of Clusters (k): 79\n",
      "Intra-cluster pairs (Σ C(a_i, 2)): 7578\n",
      "Inter-cluster pairs (C(k, 2)): 3081\n",
      "Total merge/link operations: 10659\n",
      "10659\n"
     ]
    }
   ],
   "source": [
    "n = embeddings.shape[0]  # Number of documents\n",
    "optimal_k = compute_optimal_k(n)\n",
    "\n",
    "print(f\"Optimal number of clusters (k) calculated: {optimal_k}\")\n",
    "\n",
    "print(f\"\\nClustering {n} documents into {optimal_k} clusters using K-Means...\")\n",
    "\n",
    "kmeans = KMeans(n_clusters=optimal_k, random_state=42, n_init=10)\n",
    "cluster_labels = kmeans.fit_predict(embeddings)\n",
    "\n",
    "calculate_pairwise_merges(cluster_labels)\n",
    "\n",
    "# Using the optimal k, on the worst case, the complexity is O(n^(4/3))"
   ]
  },
  {
   "cell_type": "code",
   "execution_count": null,
   "metadata": {},
   "outputs": [],
   "source": []
  }
 ],
 "metadata": {
  "kernelspec": {
   "display_name": "venv",
   "language": "python",
   "name": "python3"
  },
  "language_info": {
   "codemirror_mode": {
    "name": "ipython",
    "version": 3
   },
   "file_extension": ".py",
   "mimetype": "text/x-python",
   "name": "python",
   "nbconvert_exporter": "python",
   "pygments_lexer": "ipython3",
   "version": "3.12.6"
  }
 },
 "nbformat": 4,
 "nbformat_minor": 2
}
